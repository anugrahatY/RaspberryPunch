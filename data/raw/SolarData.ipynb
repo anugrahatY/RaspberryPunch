{
  "nbformat": 4,
  "nbformat_minor": 0,
  "metadata": {
    "colab": {
      "provenance": [],
      "mount_file_id": "1_zftSWdzL-IJHUmlZJSl7y7FTuJH38cw",
      "authorship_tag": "ABX9TyNJzT2n7l3tBkBvgU1SDrVf",
      "include_colab_link": true
    },
    "kernelspec": {
      "name": "python3",
      "display_name": "Python 3"
    },
    "language_info": {
      "name": "python"
    }
  },
  "cells": [
    {
      "cell_type": "markdown",
      "metadata": {
        "id": "view-in-github",
        "colab_type": "text"
      },
      "source": [
        "<a href=\"https://colab.research.google.com/github/anugrahatY/RaspberryPunch/blob/main/data/raw/SolarData.ipynb\" target=\"_parent\"><img src=\"https://colab.research.google.com/assets/colab-badge.svg\" alt=\"Open In Colab\"/></a>"
      ]
    },
    {
      "cell_type": "code",
      "source": [
        "# ==============================\n",
        "# STEP 0: Install dependencies\n",
        "# ==============================\n",
        "!pip install geopandas xarray netCDF4 requests pandas\n",
        "\n",
        "import geopandas as gpd\n",
        "import xarray as xr\n",
        "import pandas as pd\n",
        "import requests\n"
      ],
      "metadata": {
        "colab": {
          "base_uri": "https://localhost:8080/"
        },
        "id": "0RhOjNdbrQtP",
        "outputId": "459a9dfd-92d6-4140-df41-07cdb5370a61"
      },
      "execution_count": 1,
      "outputs": [
        {
          "output_type": "stream",
          "name": "stdout",
          "text": [
            "Requirement already satisfied: geopandas in /usr/local/lib/python3.12/dist-packages (1.1.1)\n",
            "Requirement already satisfied: xarray in /usr/local/lib/python3.12/dist-packages (2025.9.0)\n",
            "Collecting netCDF4\n",
            "  Downloading netCDF4-1.7.2-cp312-cp312-manylinux_2_17_x86_64.manylinux2014_x86_64.whl.metadata (1.8 kB)\n",
            "Requirement already satisfied: requests in /usr/local/lib/python3.12/dist-packages (2.32.4)\n",
            "Requirement already satisfied: pandas in /usr/local/lib/python3.12/dist-packages (2.2.2)\n",
            "Requirement already satisfied: numpy>=1.24 in /usr/local/lib/python3.12/dist-packages (from geopandas) (2.0.2)\n",
            "Requirement already satisfied: pyogrio>=0.7.2 in /usr/local/lib/python3.12/dist-packages (from geopandas) (0.11.1)\n",
            "Requirement already satisfied: packaging in /usr/local/lib/python3.12/dist-packages (from geopandas) (25.0)\n",
            "Requirement already satisfied: pyproj>=3.5.0 in /usr/local/lib/python3.12/dist-packages (from geopandas) (3.7.2)\n",
            "Requirement already satisfied: shapely>=2.0.0 in /usr/local/lib/python3.12/dist-packages (from geopandas) (2.1.1)\n",
            "Collecting cftime (from netCDF4)\n",
            "  Downloading cftime-1.6.4.post1-cp312-cp312-manylinux_2_17_x86_64.manylinux2014_x86_64.whl.metadata (8.7 kB)\n",
            "Requirement already satisfied: certifi in /usr/local/lib/python3.12/dist-packages (from netCDF4) (2025.8.3)\n",
            "Requirement already satisfied: charset_normalizer<4,>=2 in /usr/local/lib/python3.12/dist-packages (from requests) (3.4.3)\n",
            "Requirement already satisfied: idna<4,>=2.5 in /usr/local/lib/python3.12/dist-packages (from requests) (3.10)\n",
            "Requirement already satisfied: urllib3<3,>=1.21.1 in /usr/local/lib/python3.12/dist-packages (from requests) (2.5.0)\n",
            "Requirement already satisfied: python-dateutil>=2.8.2 in /usr/local/lib/python3.12/dist-packages (from pandas) (2.9.0.post0)\n",
            "Requirement already satisfied: pytz>=2020.1 in /usr/local/lib/python3.12/dist-packages (from pandas) (2025.2)\n",
            "Requirement already satisfied: tzdata>=2022.7 in /usr/local/lib/python3.12/dist-packages (from pandas) (2025.2)\n",
            "Requirement already satisfied: six>=1.5 in /usr/local/lib/python3.12/dist-packages (from python-dateutil>=2.8.2->pandas) (1.17.0)\n",
            "Downloading netCDF4-1.7.2-cp312-cp312-manylinux_2_17_x86_64.manylinux2014_x86_64.whl (9.3 MB)\n",
            "\u001b[2K   \u001b[90m━━━━━━━━━━━━━━━━━━━━━━━━━━━━━━━━━━━━━━━━\u001b[0m \u001b[32m9.3/9.3 MB\u001b[0m \u001b[31m54.0 MB/s\u001b[0m eta \u001b[36m0:00:00\u001b[0m\n",
            "\u001b[?25hDownloading cftime-1.6.4.post1-cp312-cp312-manylinux_2_17_x86_64.manylinux2014_x86_64.whl (1.4 MB)\n",
            "\u001b[2K   \u001b[90m━━━━━━━━━━━━━━━━━━━━━━━━━━━━━━━━━━━━━━━━\u001b[0m \u001b[32m1.4/1.4 MB\u001b[0m \u001b[31m58.1 MB/s\u001b[0m eta \u001b[36m0:00:00\u001b[0m\n",
            "\u001b[?25hInstalling collected packages: cftime, netCDF4\n",
            "Successfully installed cftime-1.6.4.post1 netCDF4-1.7.2\n"
          ]
        }
      ]
    },
    {
      "cell_type": "code",
      "source": [
        "# ==============================\n",
        "# STEP 1: Load Solar Farm Mapping (GeoJSON from Microsoft)\n",
        "# ==============================\n",
        "# Make sure you upload or clone \"solar-farms-mapping\" repo in Colab first.\n",
        "farms = gpd.read_file(\"/content/solar_farms_india_2021.geojson\")\n",
        "\n",
        "# Pick the first farm (you can change index)\n",
        "farm = farms.iloc[0]\n",
        "lat, lon = farm.geometry.centroid.y, farm.geometry.centroid.x\n",
        "print(f\"Selected Farm Coordinates: Lat={lat}, Lon={lon}\")\n"
      ],
      "metadata": {
        "colab": {
          "base_uri": "https://localhost:8080/"
        },
        "id": "uPGmgL2XrTfu",
        "outputId": "35b4fe82-8add-4cb4-e5c5-34bf6b08a7b3"
      },
      "execution_count": 4,
      "outputs": [
        {
          "output_type": "stream",
          "name": "stdout",
          "text": [
            "Selected Farm Coordinates: Lat=19.148300269779078, Lon=79.42635625208653\n"
          ]
        }
      ]
    },
    {
      "cell_type": "code",
      "source": [
        "#ds = xr.open_dataset(\"/content/solar_capacity_factor_2022.nc\")\n",
        "#print(ds)"
      ],
      "metadata": {
        "colab": {
          "base_uri": "https://localhost:8080/"
        },
        "id": "yZYh2HzAwKXC",
        "outputId": "3c83aa65-8eb2-4ce5-966f-acdc4ddd5981"
      },
      "execution_count": 9,
      "outputs": [
        {
          "output_type": "stream",
          "name": "stdout",
          "text": [
            "<xarray.Dataset> Size: 580MB\n",
            "Dimensions:                   (time: 7296, lat: 141, lon: 141)\n",
            "Coordinates:\n",
            "  * time                      (time) datetime64[ns] 58kB 2022-01-01 ... 2022-...\n",
            "  * lat                       (lat) float32 564B 40.0 39.75 39.5 ... 5.25 5.0\n",
            "  * lon                       (lon) float32 564B 65.0 65.25 65.5 ... 99.75 100.0\n",
            "Data variables:\n",
            "    capacity_factor_of_panel  (time, lat, lon) float32 580MB ...\n"
          ]
        }
      ]
    },
    {
      "cell_type": "code",
      "source": [
        "# ==============================\n",
        "# STEP 2: Load Zenodo Renewable Production Data (NetCDF)\n",
        "# ==============================\n",
        "# Upload the Zenodo NetCDF file (e.g., India_Solar_CF_Hourly_1979-2022.nc)\n",
        "ds = xr.open_dataset(\"/content/solar_capacity_factor_2022.nc\")\n",
        "\n",
        "# Extract nearest capacity factor time-series\n",
        "cf = ds.sel(lon=lon, lat=lat, method=\"nearest\")[\"capacity_factor_of_panel\"]\n",
        "\n",
        "# Convert to pandas DataFrame\n",
        "cf_df = cf.to_dataframe().reset_index()\n",
        "cf_df = cf_df.rename(columns={\"capacity_factor_of_panel\": \"CF\"})\n",
        "cf_df[\"Generation_MW\"] = cf_df[\"CF\"] * 50  # assume 50 MW installed capacity\n",
        "\n",
        "print(\"Zenodo CF sample:\")\n",
        "print(cf_df.head())\n"
      ],
      "metadata": {
        "colab": {
          "base_uri": "https://localhost:8080/"
        },
        "id": "NcOpmo22rhe6",
        "outputId": "24a3f3c5-97ae-4b07-a618-89a3811ad8bd"
      },
      "execution_count": 11,
      "outputs": [
        {
          "output_type": "stream",
          "name": "stdout",
          "text": [
            "Zenodo CF sample:\n",
            "                 time    lat   lon            CF  Generation_MW\n",
            "0 2022-01-01 00:00:00  19.25  79.5 -4.094508e-07      -0.000020\n",
            "1 2022-01-01 01:00:00  19.25  79.5 -4.098415e-07      -0.000020\n",
            "2 2022-01-01 02:00:00  19.25  79.5  2.524692e-02       1.262346\n",
            "3 2022-01-01 03:00:00  19.25  79.5  1.746623e-01       8.733114\n",
            "4 2022-01-01 04:00:00  19.25  79.5  3.620194e-01      18.100973\n"
          ]
        }
      ]
    },
    {
      "cell_type": "code",
      "source": [
        "import requests\n",
        "import pandas as pd\n",
        "\n",
        "url = \"https://power.larc.nasa.gov/api/temporal/hourly/point\"\n",
        "params = {\n",
        "    \"parameters\": \"T2M,ALLSKY_SFC_SW_DWN\",\n",
        "    \"start\": \"20200101\",\n",
        "    \"end\": \"20200107\",\n",
        "    \"latitude\": lat,\n",
        "    \"longitude\": lon,\n",
        "    \"community\": \"RE\",\n",
        "    \"format\": \"CSV\"\n",
        "}\n",
        "\n",
        "# Fetch data\n",
        "response = requests.get(url, params=params)\n",
        "with open(\"nasa_power.csv\", \"wb\") as f:\n",
        "    f.write(response.content)\n",
        "\n",
        "# Load with fixed column names\n",
        "col_names = [\"YEAR\", \"MO\", \"DY\", \"HR\", \"Irradiance_Wm2\", \"Temp_C\"]\n",
        "weather_df = pd.read_csv(\"nasa_power.csv\", skiprows=13, names=col_names)\n",
        "\n",
        "# Build datetime column\n",
        "weather_df[\"time\"] = pd.to_datetime(weather_df[[\"YEAR\", \"MO\", \"DY\", \"HR\"]].astype(str).agg(\"-\".join, axis=1),\n",
        "                                    format=\"%Y-%m-%d-%H\")\n",
        "\n",
        "# Keep only useful columns\n",
        "weather_df = weather_df[[\"time\", \"Irradiance_Wm2\", \"Temp_C\"]]\n",
        "\n",
        "print(weather_df.head())\n",
        "\n"
      ],
      "metadata": {
        "colab": {
          "base_uri": "https://localhost:8080/"
        },
        "id": "lHi74yaqyyzH",
        "outputId": "5e87cdc7-7997-4976-f067-8153090d1b3c"
      },
      "execution_count": 23,
      "outputs": [
        {
          "output_type": "stream",
          "name": "stdout",
          "text": [
            "                 time  Irradiance_Wm2  Temp_C\n",
            "0 2020-01-01 02:00:00            5.26     0.0\n",
            "1 2020-01-01 03:00:00            5.09     0.0\n",
            "2 2020-01-01 04:00:00            4.76     0.0\n",
            "3 2020-01-01 05:00:00            4.30     0.0\n",
            "4 2020-01-01 06:00:00            3.98     0.0\n"
          ]
        }
      ]
    },
    {
      "cell_type": "code",
      "source": [
        "# ==============================\n",
        "# STEP 3: Fetch NASA POWER Data (Irradiance + Temp)\n",
        "# ==============================\n",
        "# Define API URL for hourly data (example: Jan 2020)\n",
        "url = \"https://power.larc.nasa.gov/api/temporal/hourly/point\"\n",
        "params = {\n",
        "    \"parameters\": \"T2M,ALLSKY_SFC_SW_DWN\",\n",
        "    \"start\": \"20220101\",\n",
        "    \"end\": \"20220131\",\n",
        "    \"latitude\": lat,\n",
        "    \"longitude\": lon,\n",
        "    \"community\": \"RE\",   # Renewable Energy community\n",
        "    \"format\": \"CSV\"\n",
        "}\n",
        "\n",
        "# Fetch data\n",
        "response = requests.get(url, params=params)\n",
        "with open(\"nasa_power.csv\", \"wb\") as f:\n",
        "    f.write(response.content)\n",
        "\n",
        "# Load with fixed column names\n",
        "col_names = [\"YEAR\", \"MO\", \"DY\", \"HR\", \"Irradiance_Wm2\", \"Temp_C\"]\n",
        "weather_df = pd.read_csv(\"nasa_power.csv\", skiprows=13, names=col_names)\n",
        "\n",
        "# Build datetime column\n",
        "weather_df[\"time\"] = pd.to_datetime(weather_df[[\"YEAR\", \"MO\", \"DY\", \"HR\"]].astype(str).agg(\"-\".join, axis=1),\n",
        "                                    format=\"%Y-%m-%d-%H\")\n",
        "\n",
        "# Read and clean CSV\n",
        "#weather_df = pd.read_csv(\"nasa_power.csv\", skiprows=11)\n",
        "\n",
        "# Rename columns\n",
        "weather_df = weather_df.rename(columns={\n",
        "    \"ALLSKY_SFC_SW_DWN\": \"Irradiance_Wm2\",\n",
        "    \"T2M\": \"Temp_C\"\n",
        "})\n",
        "print(weather_df.columns)\n",
        "print(weather_df.head())\n",
        "\n",
        "# Parse datetime (HR goes 1–24, so shift to 0–23)\n",
        "#weather_df[\"time\"] = pd.to_datetime(\n",
        "#    weather_df[\"YEAR\"].astype(str) + \"-\" +\n",
        "#   weather_df[\"MO\"].astype(str) + \"-\" +\n",
        "#    weather_df[\"DY\"].astype(str) + \" \" +\n",
        "#   (weather_df[\"HR\"] - 1).astype(str) + \":00:00\"\n",
        "#)\n",
        "\n",
        "# Keep only relevant columns\n",
        "weather_df = weather_df[[\"time\", \"Irradiance_Wm2\", \"Temp_C\"]]\n",
        "\n",
        "print(\"NASA POWER sample:\")\n",
        "print(weather_df.head())\n"
      ],
      "metadata": {
        "colab": {
          "base_uri": "https://localhost:8080/"
        },
        "id": "oRmGnEkFrkR8",
        "outputId": "38abe938-8aa3-4c41-f357-c0a01fc965c4"
      },
      "execution_count": 26,
      "outputs": [
        {
          "output_type": "stream",
          "name": "stdout",
          "text": [
            "Index(['YEAR', 'MO', 'DY', 'HR', 'Irradiance_Wm2', 'Temp_C', 'time'], dtype='object')\n",
            "   YEAR  MO  DY  HR  Irradiance_Wm2  Temp_C                time\n",
            "0  2022   1   1   2            8.32     0.0 2022-01-01 02:00:00\n",
            "1  2022   1   1   3            7.74     0.0 2022-01-01 03:00:00\n",
            "2  2022   1   1   4            7.05     0.0 2022-01-01 04:00:00\n",
            "3  2022   1   1   5            6.39     0.0 2022-01-01 05:00:00\n",
            "4  2022   1   1   6            5.93     0.0 2022-01-01 06:00:00\n",
            "NASA POWER sample:\n",
            "                 time  Irradiance_Wm2  Temp_C\n",
            "0 2022-01-01 02:00:00            8.32     0.0\n",
            "1 2022-01-01 03:00:00            7.74     0.0\n",
            "2 2022-01-01 04:00:00            7.05     0.0\n",
            "3 2022-01-01 05:00:00            6.39     0.0\n",
            "4 2022-01-01 06:00:00            5.93     0.0\n"
          ]
        }
      ]
    },
    {
      "cell_type": "code",
      "execution_count": 27,
      "metadata": {
        "colab": {
          "base_uri": "https://localhost:8080/"
        },
        "id": "q6vuUimiqzEC",
        "outputId": "02a70cf0-d582-4fcc-e423-64bff183805c"
      },
      "outputs": [
        {
          "output_type": "stream",
          "name": "stdout",
          "text": [
            "Final merged dataset sample:\n",
            "                 time    lat   lon        CF  Generation_MW  Irradiance_Wm2  \\\n",
            "0 2022-01-01 02:00:00  19.25  79.5  0.025247       1.262346            8.32   \n",
            "1 2022-01-01 03:00:00  19.25  79.5  0.174662       8.733114            7.74   \n",
            "2 2022-01-01 04:00:00  19.25  79.5  0.362019      18.100973            7.05   \n",
            "3 2022-01-01 05:00:00  19.25  79.5  0.516540      25.826994            6.39   \n",
            "4 2022-01-01 06:00:00  19.25  79.5  0.617053      30.852661            5.93   \n",
            "\n",
            "   Temp_C  \n",
            "0     0.0  \n",
            "1     0.0  \n",
            "2     0.0  \n",
            "3     0.0  \n",
            "4     0.0  \n",
            "✅ Linked dataset saved as linked_farm_dataset.csv\n"
          ]
        }
      ],
      "source": [
        "# ==============================\n",
        "# STEP 4: Merge Zenodo + NASA POWER\n",
        "# ==============================\n",
        "cf_df[\"time\"] = pd.to_datetime(cf_df[\"time\"])\n",
        "merged = pd.merge(cf_df, weather_df, on=\"time\", how=\"inner\")\n",
        "\n",
        "print(\"Final merged dataset sample:\")\n",
        "print(merged.head())\n",
        "\n",
        "# ==============================\n",
        "# STEP 5: Save to CSV\n",
        "# ==============================\n",
        "merged.to_csv(\"linked_farm_dataset.csv\", index=False)\n",
        "print(\"✅ Linked dataset saved as linked_farm_dataset.csv\")\n"
      ]
    }
  ]
}